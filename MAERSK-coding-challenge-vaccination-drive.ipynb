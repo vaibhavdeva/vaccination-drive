{
 "cells": [
  {
   "cell_type": "markdown",
   "metadata": {},
   "source": [
    "# Vaccination Drive plan for employees using Sequntial and parallel approach\n",
    "\n",
    "### Using python as the primary language with pyspark library"
   ]
  },
  {
   "cell_type": "code",
   "execution_count": 22,
   "metadata": {},
   "outputs": [],
   "source": [
    "from pyspark.sql import functions\n",
    "from pyspark.sql import SparkSession\n",
    "from pyspark.sql import Window"
   ]
  },
  {
   "cell_type": "code",
   "execution_count": 4,
   "metadata": {},
   "outputs": [],
   "source": [
    "spark = SparkSession \\\n",
    "    .builder \\\n",
    "    .appName(\"code-challange\") \\\n",
    "    .getOrCreate()"
   ]
  },
  {
   "cell_type": "markdown",
   "metadata": {},
   "source": [
    "## Get Data"
   ]
  },
  {
   "cell_type": "code",
   "execution_count": 5,
   "metadata": {},
   "outputs": [],
   "source": [
    "input_data = spark.read.csv(\"us-500.csv\", header=True, inferSchema=True)"
   ]
  },
  {
   "cell_type": "code",
   "execution_count": 8,
   "metadata": {},
   "outputs": [
    {
     "name": "stdout",
     "output_type": "stream",
     "text": [
      "---------------\n",
      "['first_name', 'last_name', 'company_name', 'address', 'city', 'county', 'state', 'zip', 'phone1', 'phone2', 'email', 'web']\n",
      "---------------\n",
      "+----------+---------+----------------------+--------------------+-----------+----------+-----+-----+------------+------------+-----------------------------+-----------------------------------+\n",
      "|first_name|last_name|company_name          |address             |city       |county    |state|zip  |phone1      |phone2      |email                        |web                                |\n",
      "+----------+---------+----------------------+--------------------+-----------+----------+-----+-----+------------+------------+-----------------------------+-----------------------------------+\n",
      "|James     |Butt     |Benton, John B Jr     |6649 N Blue Gum St  |New Orleans|Orleans   |LA   |70116|504-621-8927|504-845-1427|jbutt@gmail.com              |http://www.bentonjohnbjr.com       |\n",
      "|Josephine |Darakjy  |Chanay, Jeffrey A Esq |4 B Blue Ridge Blvd |Brighton   |Livingston|MI   |48116|810-292-9388|810-374-9840|josephine_darakjy@darakjy.org|http://www.chanayjeffreyaesq.com   |\n",
      "|Art       |Venere   |Chemel, James L Cpa   |8 W Cerritos Ave #54|Bridgeport |Gloucester|NJ   |8014 |856-636-8749|856-264-4130|art@venere.org               |http://www.chemeljameslcpa.com     |\n",
      "|Lenna     |Paprocki |Feltz Printing Service|639 Main St         |Anchorage  |Anchorage |AK   |99501|907-385-4412|907-921-2010|lpaprocki@hotmail.com        |http://www.feltzprintingservice.com|\n",
      "|Donette   |Foller   |Printing Dimensions   |34 Center St        |Hamilton   |Butler    |OH   |45011|513-570-1893|513-549-4561|donette.foller@cox.net       |http://www.printingdimensions.com  |\n",
      "+----------+---------+----------------------+--------------------+-----------+----------+-----+-----+------------+------------+-----------------------------+-----------------------------------+\n",
      "\n"
     ]
    }
   ],
   "source": [
    "print(\"---------------\")\n",
    "print(input_data.columns)\n",
    "print(\"---------------\")\n",
    "\n",
    "input_data.limit(5).show(truncate=False)"
   ]
  },
  {
   "cell_type": "code",
   "execution_count": 85,
   "metadata": {},
   "outputs": [
    {
     "name": "stdout",
     "output_type": "stream",
     "text": [
      "Total records in input data => 500\n"
     ]
    }
   ],
   "source": [
    "print(f\"Total records in input data => {input_data.count()}\")"
   ]
  },
  {
   "cell_type": "markdown",
   "metadata": {},
   "source": [
    "## Explode data by 100X to 50,000 records"
   ]
  },
  {
   "cell_type": "code",
   "execution_count": 18,
   "metadata": {},
   "outputs": [],
   "source": [
    "# explode data 100 times\n",
    "exploded_data = input_data\\\n",
    ".withColumn(\"dummy_array\", functions.lit(\",\".join([str(i) for i in range(100)])))\\\n",
    ".withColumn(\"dummy_array\", functions.split(\"dummy_array\", \",\"))\\\n",
    ".withColumn(\"dummy_array\", functions.explode(\"dummy_array\"))\\\n",
    ".drop(\"dummy_array\")"
   ]
  },
  {
   "cell_type": "code",
   "execution_count": 19,
   "metadata": {},
   "outputs": [
    {
     "data": {
      "text/plain": [
       "50000"
      ]
     },
     "execution_count": 19,
     "metadata": {},
     "output_type": "execute_result"
    }
   ],
   "source": [
    "exploded_data.count()"
   ]
  },
  {
   "cell_type": "code",
   "execution_count": 20,
   "metadata": {},
   "outputs": [
    {
     "name": "stdout",
     "output_type": "stream",
     "text": [
      "+----------+---------+-----------------+------------------+-----------+-------+-----+-----+------------+------------+---------------+--------------------+\n",
      "|first_name|last_name|     company_name|           address|       city| county|state|  zip|      phone1|      phone2|          email|                 web|\n",
      "+----------+---------+-----------------+------------------+-----------+-------+-----+-----+------------+------------+---------------+--------------------+\n",
      "|     James|     Butt|Benton, John B Jr|6649 N Blue Gum St|New Orleans|Orleans|   LA|70116|504-621-8927|504-845-1427|jbutt@gmail.com|http://www.benton...|\n",
      "|     James|     Butt|Benton, John B Jr|6649 N Blue Gum St|New Orleans|Orleans|   LA|70116|504-621-8927|504-845-1427|jbutt@gmail.com|http://www.benton...|\n",
      "|     James|     Butt|Benton, John B Jr|6649 N Blue Gum St|New Orleans|Orleans|   LA|70116|504-621-8927|504-845-1427|jbutt@gmail.com|http://www.benton...|\n",
      "|     James|     Butt|Benton, John B Jr|6649 N Blue Gum St|New Orleans|Orleans|   LA|70116|504-621-8927|504-845-1427|jbutt@gmail.com|http://www.benton...|\n",
      "|     James|     Butt|Benton, John B Jr|6649 N Blue Gum St|New Orleans|Orleans|   LA|70116|504-621-8927|504-845-1427|jbutt@gmail.com|http://www.benton...|\n",
      "+----------+---------+-----------------+------------------+-----------+-------+-----+-----+------------+------------+---------------+--------------------+\n",
      "\n"
     ]
    }
   ],
   "source": [
    "exploded_data.limit(5).show()"
   ]
  },
  {
   "cell_type": "markdown",
   "metadata": {},
   "source": [
    "## City employee density and ranking based on higher density"
   ]
  },
  {
   "cell_type": "code",
   "execution_count": 32,
   "metadata": {},
   "outputs": [
    {
     "name": "stdout",
     "output_type": "stream",
     "text": [
      "Total Cities => 342\n",
      "+-------------+-----+--------+\n",
      "|         city|count|sequence|\n",
      "+-------------+-----+--------+\n",
      "|     New York| 1400|       1|\n",
      "| Philadelphia|  800|       2|\n",
      "|      Chicago|  700|       3|\n",
      "|        Miami|  600|       4|\n",
      "|      Phoenix|  500|       5|\n",
      "|San Francisco|  500|       6|\n",
      "|    Milwaukee|  500|       7|\n",
      "|      Gardena|  500|       8|\n",
      "|    Baltimore|  500|       9|\n",
      "|      Orlando|  500|      10|\n",
      "+-------------+-----+--------+\n",
      "\n"
     ]
    }
   ],
   "source": [
    "# city employee density\n",
    "density_window = Window.orderBy(functions.col(\"count\").desc())\n",
    "cityEmployeeDensity = exploded_data.groupBy(\"city\").count().withColumn(\"sequence\", functions.row_number().over(density_window))\n",
    "\n",
    "print(f\"Total Cities => {cityEmployeeDensity.count()}\")\n",
    "\n",
    "cityEmployeeDensity.limit(10).show()"
   ]
  },
  {
   "cell_type": "markdown",
   "metadata": {},
   "source": [
    "## Vaccination drive plan (Parallel Approach)"
   ]
  },
  {
   "cell_type": "code",
   "execution_count": 35,
   "metadata": {},
   "outputs": [
    {
     "name": "stdout",
     "output_type": "stream",
     "text": [
      "+-----------+----------+---------+-----------------+------------------+-------+-----+-----+------------+------------+---------------+--------------------+--------+\n",
      "|       city|first_name|last_name|     company_name|           address| county|state|  zip|      phone1|      phone2|          email|                 web|sequence|\n",
      "+-----------+----------+---------+-----------------+------------------+-------+-----+-----+------------+------------+---------------+--------------------+--------+\n",
      "|New Orleans|     James|     Butt|Benton, John B Jr|6649 N Blue Gum St|Orleans|   LA|70116|504-621-8927|504-845-1427|jbutt@gmail.com|http://www.benton...|      31|\n",
      "|New Orleans|     James|     Butt|Benton, John B Jr|6649 N Blue Gum St|Orleans|   LA|70116|504-621-8927|504-845-1427|jbutt@gmail.com|http://www.benton...|      31|\n",
      "|New Orleans|     James|     Butt|Benton, John B Jr|6649 N Blue Gum St|Orleans|   LA|70116|504-621-8927|504-845-1427|jbutt@gmail.com|http://www.benton...|      31|\n",
      "|New Orleans|     James|     Butt|Benton, John B Jr|6649 N Blue Gum St|Orleans|   LA|70116|504-621-8927|504-845-1427|jbutt@gmail.com|http://www.benton...|      31|\n",
      "|New Orleans|     James|     Butt|Benton, John B Jr|6649 N Blue Gum St|Orleans|   LA|70116|504-621-8927|504-845-1427|jbutt@gmail.com|http://www.benton...|      31|\n",
      "|New Orleans|     James|     Butt|Benton, John B Jr|6649 N Blue Gum St|Orleans|   LA|70116|504-621-8927|504-845-1427|jbutt@gmail.com|http://www.benton...|      31|\n",
      "|New Orleans|     James|     Butt|Benton, John B Jr|6649 N Blue Gum St|Orleans|   LA|70116|504-621-8927|504-845-1427|jbutt@gmail.com|http://www.benton...|      31|\n",
      "|New Orleans|     James|     Butt|Benton, John B Jr|6649 N Blue Gum St|Orleans|   LA|70116|504-621-8927|504-845-1427|jbutt@gmail.com|http://www.benton...|      31|\n",
      "|New Orleans|     James|     Butt|Benton, John B Jr|6649 N Blue Gum St|Orleans|   LA|70116|504-621-8927|504-845-1427|jbutt@gmail.com|http://www.benton...|      31|\n",
      "|New Orleans|     James|     Butt|Benton, John B Jr|6649 N Blue Gum St|Orleans|   LA|70116|504-621-8927|504-845-1427|jbutt@gmail.com|http://www.benton...|      31|\n",
      "+-----------+----------+---------+-----------------+------------------+-------+-----+-----+------------+------------+---------------+--------------------+--------+\n",
      "\n"
     ]
    }
   ],
   "source": [
    "# vaccination drive plan\n",
    "VaccinationDrivePlan = exploded_data.join(cityEmployeeDensity.drop(\"count\"), \"city\", \"left\")\n",
    "VaccinationDrivePlan.limit(10).show()"
   ]
  },
  {
   "cell_type": "markdown",
   "metadata": {},
   "source": [
    "### Vaccination days for each employee, with 100 employee per day per city"
   ]
  },
  {
   "cell_type": "code",
   "execution_count": 50,
   "metadata": {},
   "outputs": [
    {
     "name": "stdout",
     "output_type": "stream",
     "text": [
      "+----------+---------+-----------------+---------------+\n",
      "|first_name|last_name|             city|vaccination_day|\n",
      "+----------+---------+-----------------+---------------+\n",
      "|  Johnetta| Abdallah|      Chapel Hill|              1|\n",
      "|  Geoffrey|     Acey|         Palatine|              1|\n",
      "|    Weldon|    Acuff|Arlington Heights|              1|\n",
      "|    Barbra|    Adkin|         Brooklyn|              1|\n",
      "|    Fausto|Agramonte|         New York|              5|\n",
      "|     Delmy|     Ahle|       Providence|              2|\n",
      "|     Cammy|  Albares|           Laredo|              1|\n",
      "|     Minna|   Amigon|       Kulpsville|              1|\n",
      "|     Jutta|    Amyot|        Broussard|              1|\n",
      "|     Tasia|Andreason|           Kearny|              2|\n",
      "+----------+---------+-----------------+---------------+\n",
      "\n"
     ]
    }
   ],
   "source": [
    "#parallel vaccination drive across cities\n",
    "count_window = Window.partitionBy(\"city\").orderBy(\"first_name\", \"last_name\")\n",
    "vaccination_drive_plan_p = VaccinationDrivePlan\\\n",
    ".withColumn(\"emp_cnt\", functions.row_number().over(count_window))\\\n",
    ".withColumn(\"vaccination_day\", functions.ceil(functions.col(\"emp_cnt\")/100))\\\n",
    ".select(\"first_name\", \"last_name\", \"city\", \"vaccination_day\")\\\n",
    ".dropDuplicates()\n",
    "\n",
    "vaccination_drive_plan_p.orderBy(\"last_name\").limit(10).show()"
   ]
  },
  {
   "cell_type": "markdown",
   "metadata": {},
   "source": [
    "### Days to complete vaccination drive at each city in parallel approach"
   ]
  },
  {
   "cell_type": "code",
   "execution_count": 58,
   "metadata": {},
   "outputs": [
    {
     "name": "stdout",
     "output_type": "stream",
     "text": [
      "+-------------+----------------+\n",
      "|         city|days_to_complete|\n",
      "+-------------+----------------+\n",
      "|     New York|              14|\n",
      "| Philadelphia|               8|\n",
      "|      Chicago|               7|\n",
      "|        Miami|               6|\n",
      "|      Gardena|               5|\n",
      "|San Francisco|               5|\n",
      "|    Baltimore|               5|\n",
      "|    Milwaukee|               5|\n",
      "|      Phoenix|               5|\n",
      "|      Orlando|               5|\n",
      "|       Denver|               4|\n",
      "|      Abilene|               4|\n",
      "|  Los Angeles|               4|\n",
      "| Indianapolis|               4|\n",
      "|    Anchorage|               4|\n",
      "|   Providence|               4|\n",
      "|     Brooklyn|               4|\n",
      "|      Atlanta|               4|\n",
      "|     San Jose|               4|\n",
      "|        Boise|               3|\n",
      "+-------------+----------------+\n",
      "only showing top 20 rows\n",
      "\n"
     ]
    }
   ],
   "source": [
    "# get number of days to complete vaccination drive per city\n",
    "num_day_window = Window.partitionBy(\"city\").orderBy(functions.col(\"vaccination_day\").desc())\n",
    "vaccination_drive_plan_p_dtc = vaccination_drive_plan_p\\\n",
    ".withColumn(\"flag\", functions.rank().over(num_day_window))\\\n",
    ".filter(functions.col(\"flag\")==1)\\\n",
    ".select(\"city\", functions.col(\"vaccination_day\").alias(\"days_to_complete\"))\\\n",
    ".dropDuplicates()\\\n",
    ".orderBy(functions.col(\"days_to_complete\").desc())\n",
    "\n",
    "vaccination_drive_plan_p_dtc.show()"
   ]
  },
  {
   "cell_type": "markdown",
   "metadata": {},
   "source": [
    "### Total Time to complete entire vaccination drive"
   ]
  },
  {
   "cell_type": "code",
   "execution_count": 84,
   "metadata": {},
   "outputs": [
    {
     "name": "stdout",
     "output_type": "stream",
     "text": [
      "Total number of days to complete vaccination drive in parallel approach 14 days.\n"
     ]
    }
   ],
   "source": [
    "day_to_complete_p = vaccination_drive_plan_p_dtc.select(functions.max(\"days_to_complete\")).collect()[0][0]\n",
    "print(f\"Total number of days to complete vaccination drive in parallel approach {day_to_complete_p} days.\")"
   ]
  },
  {
   "cell_type": "markdown",
   "metadata": {},
   "source": [
    "## Vaccination Drive Plan (Sequential Approach)"
   ]
  },
  {
   "cell_type": "code",
   "execution_count": 70,
   "metadata": {},
   "outputs": [
    {
     "name": "stdout",
     "output_type": "stream",
     "text": [
      "+-------------+---------+\n",
      "|         city|start_day|\n",
      "+-------------+---------+\n",
      "|     New York|        1|\n",
      "| Philadelphia|       15|\n",
      "|      Chicago|       23|\n",
      "|        Miami|       30|\n",
      "|    Baltimore|       61|\n",
      "|      Gardena|       61|\n",
      "|    Milwaukee|       61|\n",
      "|      Orlando|       61|\n",
      "|      Phoenix|       61|\n",
      "|San Francisco|       61|\n",
      "|      Abilene|       98|\n",
      "|    Anchorage|       98|\n",
      "|      Atlanta|       98|\n",
      "|     Brooklyn|       98|\n",
      "|       Denver|       98|\n",
      "| Indianapolis|       98|\n",
      "|  Los Angeles|       98|\n",
      "|   Providence|       98|\n",
      "|     San Jose|       98|\n",
      "|       Austin|      144|\n",
      "+-------------+---------+\n",
      "only showing top 20 rows\n",
      "\n"
     ]
    }
   ],
   "source": [
    "# Get Start day for next city based on population density\n",
    "\n",
    "w = Window.orderBy(functions.col(\"days_to_complete\").desc())\n",
    "w_sum = Window.orderBy(functions.col(\"days_to_complete\").desc()).rangeBetween(Window.unboundedPreceding, 0)\n",
    "vaccination_drive_plan_s_sd = vaccination_drive_plan_p_dtc\\\n",
    ".withColumn(\"prev_end_day\", functions.lag(\"days_to_complete\", 1).over(w))\\\n",
    ".withColumn(\"prev_end_day\", functions.when(functions.col(\"prev_end_day\").isNull(), 1).otherwise(functions.col(\"prev_end_day\")))\\\n",
    ".withColumn(\"start_day\", functions.sum(\"prev_end_day\").over(w_sum))\\\n",
    ".select(\"city\", \"start_day\")\n",
    "\n",
    "vaccination_drive_plan_s_sd.show()"
   ]
  },
  {
   "cell_type": "markdown",
   "metadata": {},
   "source": [
    "### Vaccination day for each employee in parallel approach"
   ]
  },
  {
   "cell_type": "code",
   "execution_count": 75,
   "metadata": {},
   "outputs": [
    {
     "name": "stdout",
     "output_type": "stream",
     "text": [
      "+------------+----------+---------+---------------+\n",
      "|        city|first_name|last_name|vaccination_day|\n",
      "+------------+----------+---------+---------------+\n",
      "|    New York|   Alishia|    Sergi|              1|\n",
      "|    New York|     Brock| Bolognia|              2|\n",
      "|    New York|     Cyril| Daufeldt|              3|\n",
      "|    New York|    Derick|   Dhamer|              4|\n",
      "|    New York|    Fausto|Agramonte|              5|\n",
      "|    New York|    Haydee| Denooyer|              6|\n",
      "|    New York|      Jess| Chaffins|              7|\n",
      "|    New York|      Jose| Stockham|              8|\n",
      "|    New York|   Justine|  Mugnolo|              9|\n",
      "|    New York|     Layla|  Springe|             10|\n",
      "|    New York|     Mirta|  Mallett|             11|\n",
      "|    New York|     Ozell|   Shealy|             12|\n",
      "|    New York|     Tawna|   Buvens|             13|\n",
      "|    New York|    Willow|    Kusko|             14|\n",
      "|Philadelphia|     Blair|    Malet|             15|\n",
      "|Philadelphia|    Dalene|Schoeneck|             16|\n",
      "|Philadelphia|   Dierdre|      Yum|             17|\n",
      "|Philadelphia|Evangelina|    Radde|             18|\n",
      "|Philadelphia|  Franklyn|    Emard|             19|\n",
      "|Philadelphia|     Ronny|   Caiafa|             20|\n",
      "+------------+----------+---------+---------------+\n",
      "only showing top 20 rows\n",
      "\n"
     ]
    }
   ],
   "source": [
    "# derive vaccination day in seq approach\n",
    "\n",
    "vaccination_drive_plan_s = vaccination_drive_plan_p\\\n",
    ".join(vaccination_drive_plan_s_sd, \"city\", \"left\")\\\n",
    ".withColumn(\"vaccination_day\", functions.col(\"vaccination_day\")-1)\\\n",
    ".withColumn(\"vaccination_day\", functions.col(\"vaccination_day\") + functions.col(\"start_day\"))\\\n",
    ".drop(\"start_day\")\\\n",
    ".orderBy(\"vaccination_day\")\n",
    "\n",
    "vaccination_drive_plan_s.show()\n"
   ]
  },
  {
   "cell_type": "markdown",
   "metadata": {},
   "source": [
    "### Days to complete, start and end day for each city in parallel approach"
   ]
  },
  {
   "cell_type": "code",
   "execution_count": 79,
   "metadata": {},
   "outputs": [
    {
     "name": "stdout",
     "output_type": "stream",
     "text": [
      "+-------------+---------+-------+----------------+\n",
      "|         city|start_day|end_day|days_to_complete|\n",
      "+-------------+---------+-------+----------------+\n",
      "|     New York|        1|     14|              13|\n",
      "| Philadelphia|       15|     22|               7|\n",
      "|      Chicago|       23|     29|               6|\n",
      "|        Miami|       30|     35|               5|\n",
      "|      Gardena|       61|     65|               4|\n",
      "|San Francisco|       61|     65|               4|\n",
      "|    Baltimore|       61|     65|               4|\n",
      "|    Milwaukee|       61|     65|               4|\n",
      "|      Phoenix|       61|     65|               4|\n",
      "|      Orlando|       61|     65|               4|\n",
      "|       Denver|       98|    101|               3|\n",
      "|      Abilene|       98|    101|               3|\n",
      "|  Los Angeles|       98|    101|               3|\n",
      "| Indianapolis|       98|    101|               3|\n",
      "|    Anchorage|       98|    101|               3|\n",
      "|   Providence|       98|    101|               3|\n",
      "|     Brooklyn|       98|    101|               3|\n",
      "|      Atlanta|       98|    101|               3|\n",
      "|     San Jose|       98|    101|               3|\n",
      "|        Boise|      144|    146|               2|\n",
      "+-------------+---------+-------+----------------+\n",
      "only showing top 20 rows\n",
      "\n"
     ]
    }
   ],
   "source": [
    "# start and end day for each city in sequenctial drive\n",
    "vaccination_drive_plan_s_city_start_end = vaccination_drive_plan_s\\\n",
    ".groupBy(\"city\")\\\n",
    ".agg(functions.min(\"vaccination_day\").alias(\"start_day\"), \n",
    "     functions.max(\"vaccination_day\").alias(\"end_day\"), \n",
    "     (functions.max(\"vaccination_day\")-functions.min(\"vaccination_day\")).alias(\"days_to_complete\"))\\\n",
    ".orderBy(\"start_day\")\n",
    "\n",
    "vaccination_drive_plan_s_city_start_end.show()\n"
   ]
  },
  {
   "cell_type": "markdown",
   "metadata": {},
   "source": [
    "### Total number of days to complete entire vaccination drive in parallel appraoch"
   ]
  },
  {
   "cell_type": "code",
   "execution_count": 83,
   "metadata": {},
   "outputs": [
    {
     "name": "stdout",
     "output_type": "stream",
     "text": [
      "Total number of days to complete vaccination drive in sequenctila approach 158 days.\n"
     ]
    }
   ],
   "source": [
    "days_to_complete_s = vaccination_drive_plan_s_city_start_end.select(functions.sum(\"days_to_complete\")).collect()[0][0]\n",
    "print(f\"Total number of days to complete vaccination drive in sequenctila approach {days_to_complete_s} days.\")"
   ]
  }
 ],
 "metadata": {
  "kernelspec": {
   "display_name": "Python 3",
   "language": "python",
   "name": "python3"
  },
  "language_info": {
   "codemirror_mode": {
    "name": "ipython",
    "version": 3
   },
   "file_extension": ".py",
   "mimetype": "text/x-python",
   "name": "python",
   "nbconvert_exporter": "python",
   "pygments_lexer": "ipython3",
   "version": "3.7.2"
  }
 },
 "nbformat": 4,
 "nbformat_minor": 2
}
